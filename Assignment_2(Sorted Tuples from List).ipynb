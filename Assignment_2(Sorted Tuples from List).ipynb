{
 "cells": [
  {
   "cell_type": "markdown",
   "id": "b591d564",
   "metadata": {},
   "source": [
    "# Write a Python program to get a list, sorted in increasing order by the last element in each tuple from a given list of non-empty tuples"
   ]
  },
  {
   "cell_type": "code",
   "execution_count": 3,
   "id": "4a2cbff7",
   "metadata": {},
   "outputs": [
    {
     "name": "stdout",
     "output_type": "stream",
     "text": [
      "Sorted : [(2, 1), (1, 2), (2, 3), (4, 4), (2, 5)]\n"
     ]
    }
   ],
   "source": [
    "def sorted(a): \n",
    "    end = len(a) \n",
    "    for i in range(0, end): \n",
    "        for j in range(0, end-i-1): \n",
    "            if (a[j][-1] > a[j + 1][-1]): \n",
    "                b = a[j] \n",
    "                a[j]= a[j + 1] \n",
    "                a[j + 1]= b \n",
    "    return a \n",
    "\n",
    "a =[(2, 5), (1, 2), (4, 4), (2, 3), (2, 1)]\n",
    "         \n",
    "print(\"Sorted :\", sorted(a))"
   ]
  },
  {
   "cell_type": "code",
   "execution_count": null,
   "id": "fc9d75d4",
   "metadata": {},
   "outputs": [],
   "source": []
  }
 ],
 "metadata": {
  "kernelspec": {
   "display_name": "Python 3 (ipykernel)",
   "language": "python",
   "name": "python3"
  },
  "language_info": {
   "codemirror_mode": {
    "name": "ipython",
    "version": 3
   },
   "file_extension": ".py",
   "mimetype": "text/x-python",
   "name": "python",
   "nbconvert_exporter": "python",
   "pygments_lexer": "ipython3",
   "version": "3.11.0"
  }
 },
 "nbformat": 4,
 "nbformat_minor": 5
}
